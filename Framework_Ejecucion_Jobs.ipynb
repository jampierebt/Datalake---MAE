{
  "nbformat": 4,
  "nbformat_minor": 0,
  "metadata": {
    "colab": {
      "provenance": []
    },
    "kernelspec": {
      "name": "python3",
      "display_name": "Python 3"
    },
    "language_info": {
      "name": "python"
    }
  },
  "cells": [
    {
      "cell_type": "code",
      "execution_count": null,
      "metadata": {
        "colab": {
          "base_uri": "https://localhost:8080/"
        },
        "id": "9_Ip1uU3xpJ4",
        "outputId": "7ae34353-e5c4-4d2b-a8c7-276f7af36c1d"
      },
      "outputs": [
        {
          "output_type": "stream",
          "name": "stdout",
          "text": [
            "Mounted at /content/drive\n"
          ]
        }
      ],
      "source": [
        "from google.cloud import bigquery\n",
        "from google.colab import drive\n",
        "from google.colab import auth\n",
        "import re\n",
        "import os\n",
        "import pandas as pd\n",
        "drive.mount('/content/drive')\n",
        "auth.authenticate_user()\n",
        "\n",
        "project_id = 'iter-data-storage-pv-uat'\n",
        "client = bigquery.Client(project_id)"
      ]
    },
    {
      "cell_type": "code",
      "source": [
        "path='/content/drive/MyDrive/Proyectos - IS/PROY - MAE/Validaciones/Validacion Datalake/validacion de plataforma raw/query_igualdad/'"
      ],
      "metadata": {
        "id": "xJLm0CMjyUqS"
      },
      "execution_count": null,
      "outputs": []
    },
    {
      "cell_type": "code",
      "source": [
        "path='/content/drive/MyDrive/Proyectos - IS/PROY - MAE/Validaciones/Validacion Datalake/validacion de plataforma raw/query_null/'\n"
      ],
      "metadata": {
        "id": "4hFegoXQ0hFH"
      },
      "execution_count": null,
      "outputs": []
    },
    {
      "cell_type": "code",
      "source": [
        "for archivo_sql in os.listdir(path):\n",
        "  print(archivo_sql)"
      ],
      "metadata": {
        "id": "OO8gHGTXB71j"
      },
      "execution_count": null,
      "outputs": []
    },
    {
      "cell_type": "code",
      "source": [
        "def read_table_bq(path,archivo_sql):\n",
        "  ruta_sql = os.path.join(path, archivo_sql)\n",
        "  with open(ruta_sql, 'r') as file:\n",
        "      sql = file.read()\n",
        "  try:\n",
        "    df_temp = pd.read_gbq(sql, project_id=project_id, dialect='standard')\n",
        "    df = df_temp.melt(value_vars=[col for col in df_temp.columns if 'DIFF' in col],var_name='CAMPO_VALIDACION', value_name='RESULTADO')\n",
        "    df['NOMBRE_TABLA']=archivo_sql\n",
        "  except Exception as e:\n",
        "    print(f'Error al ejecutar {archivo_sql} en BigQuery: {e}')\n",
        "    with open('errores.log', 'a') as log_file:\n",
        "      log_file.write(f'Error en {archivo_sql}: {e}\\n')\n",
        "      return None  # Devolver None para indicar que ocurrió un error\n",
        "  return df"
      ],
      "metadata": {
        "id": "jEqttM9--_Er"
      },
      "execution_count": null,
      "outputs": []
    },
    {
      "cell_type": "code",
      "source": [
        "df_concatenado = pd.DataFrame()\n",
        "for archivo_sql in os.listdir(path):\n",
        "  dk = read_table_bq(path,archivo_sql)\n",
        "  df_concatenado = pd.concat([df_concatenado, dk], ignore_index=True)"
      ],
      "metadata": {
        "id": "DaIarjLF_wgj"
      },
      "execution_count": null,
      "outputs": []
    },
    {
      "cell_type": "code",
      "source": [
        "df_concatenado.to_excel('VALIDACION_TABLAS_BQ_NULL.xlsx')"
      ],
      "metadata": {
        "id": "Ud52zRQzM3S9"
      },
      "execution_count": null,
      "outputs": []
    }
  ]
}