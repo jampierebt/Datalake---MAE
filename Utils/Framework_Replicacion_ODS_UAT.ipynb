{
  "nbformat": 4,
  "nbformat_minor": 0,
  "metadata": {
    "colab": {
      "provenance": []
    },
    "kernelspec": {
      "name": "python3",
      "display_name": "Python 3"
    },
    "language_info": {
      "name": "python"
    }
  },
  "cells": [
    {
      "cell_type": "code",
      "execution_count": null,
      "metadata": {
        "colab": {
          "base_uri": "https://localhost:8080/"
        },
        "id": "bbG7LfslkeGq",
        "outputId": "28de5fad-02d8-41af-8763-186ca780730e"
      },
      "outputs": [
        {
          "output_type": "stream",
          "name": "stdout",
          "text": [
            "Mounted at /content/drive\n"
          ]
        }
      ],
      "source": [
        "from google.cloud import bigquery\n",
        "from google.colab import drive\n",
        "from google.colab import auth\n",
        "import re\n",
        "import os\n",
        "import pandas as pd\n",
        "drive.mount('/content/drive')\n",
        "auth.authenticate_user()\n",
        "\n",
        "project_id = 'iter-data-storage-pv-uat'\n",
        "client = bigquery.Client(project_id)"
      ]
    },
    {
      "cell_type": "code",
      "source": [
        "path='/content/drive/MyDrive/Proyectos - IS/PROY - MAE/Desarrollo/Replicacion ODS - UAT/ODS/'"
      ],
      "metadata": {
        "id": "OsPNPyzRkf54"
      },
      "execution_count": null,
      "outputs": []
    },
    {
      "cell_type": "code",
      "source": [
        "path_output='/content/drive/MyDrive/Proyectos - IS/PROY - MAE/Desarrollo/Replicacion ODS - UAT/ODS_UAT/'"
      ],
      "metadata": {
        "id": "vIoCo9sXpqS5"
      },
      "execution_count": null,
      "outputs": []
    },
    {
      "cell_type": "code",
      "source": [
        "archivos_sql = [archivo for archivo in os.listdir(path) ]"
      ],
      "metadata": {
        "id": "bOy-0EdElTyA"
      },
      "execution_count": null,
      "outputs": []
    },
    {
      "cell_type": "code",
      "source": [
        "archivos_sql"
      ],
      "metadata": {
        "id": "4PIl0LnfketS"
      },
      "execution_count": null,
      "outputs": []
    },
    {
      "cell_type": "code",
      "source": [
        "for archivo in archivos_sql:\n",
        "  ruta_archivo = os.path.join(path, archivo)\n",
        "  jobs = [job for job in os.listdir(ruta_archivo)]\n",
        "  concat = archivo + '.sh'\n",
        "  concat_SQL = archivo + '_SQL.sh'\n",
        "  concat_bq = archivo + '.sql'\n",
        "  path_final=path_output+archivo\n",
        "  os.makedirs(path_final, exist_ok=True)\n",
        "  for job in jobs:\n",
        "    if job == concat:\n",
        "      with open(path+archivo+'/'+job,'r') as lectura_SQL:\n",
        "        contenido_SQL = lectura_SQL.read()\n",
        "        contenido_SQL = contenido_SQL.replace('/home/interseguro-data/dev','/home/interseguro-data/uat')\n",
        "        contenido_SQL = contenido_SQL.replace('gs://interseguro-datalake-prd-landing/PRD','gs://interseguro-datalake-prd-landing/UAT')\n",
        "        contenido_SQL = contenido_SQL.replace('prd-analitica','uat-analitica')\n",
        "      with open(path_final+'/'+job,'w') as output_SQL:\n",
        "        output_SQL.write(contenido_SQL)\n",
        "    if job ==concat_SQL:\n",
        "      with open(path+archivo+'/'+job,'r') as lectura_SQL:\n",
        "        contenido_SQL = lectura_SQL.read()\n",
        "      contenido_SQL = contenido_SQL.replace('/home/interseguro-data/dev/','/home/interseguro-data/uat/')\n",
        "      with open(path_final+'/'+job,'w') as output_SQL:\n",
        "        output_SQL.write(contenido_SQL)\n",
        "    if job ==concat_bq:\n",
        "      with open(path+archivo+'/'+job,'r') as lectura_SQL:\n",
        "        contenido_SQL = lectura_SQL.read()\n",
        "      contenido_SQL = contenido_SQL.replace('gs://interseguro-datalake-prd-landing/PRD','gs://interseguro-datalake-prd-landing/UAT')\n",
        "      contenido_SQL = contenido_SQL.replace('interseguro-data.','iter-data-storage-pv-uat.')\n",
        "      with open(path_final+'/'+job,'w') as output_SQL:\n",
        "        output_SQL.write(contenido_SQL)"
      ],
      "metadata": {
        "id": "XhKwaqwdrc9G"
      },
      "execution_count": null,
      "outputs": []
    }
  ]
}