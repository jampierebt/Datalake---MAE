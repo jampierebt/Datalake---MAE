{
  "cells": [
    {
      "cell_type": "code",
      "execution_count": 4,
      "metadata": {
        "colab": {
          "base_uri": "https://localhost:8080/"
        },
        "id": "9_Ip1uU3xpJ4",
        "outputId": "7ae34353-e5c4-4d2b-a8c7-276f7af36c1d"
      },
      "outputs": [],
      "source": [
        "from google.cloud import bigquery\n",
        "import re\n",
        "import os\n",
        "import pandas as pd\n",
        "#drive.mount('/content/drive')\n",
        "#auth.authenticate_user()\n",
        "project_id = 'iter-data-storage-pv-uat'\n",
        "client = bigquery.Client(project_id)"
      ]
    },
    {
      "cell_type": "code",
      "execution_count": 6,
      "metadata": {
        "id": "xJLm0CMjyUqS"
      },
      "outputs": [],
      "source": [
        "path = 'Validaciones/Datalake/raw/query_igualdad/'\n",
        "#path = 'Validaciones/Datalake/raw/query_null/'"
      ]
    },
    {
      "cell_type": "code",
      "execution_count": null,
      "metadata": {
        "id": "OO8gHGTXB71j"
      },
      "outputs": [],
      "source": [
        "for archivo_sql in os.listdir(path):\n",
        "  print(archivo_sql)"
      ]
    },
    {
      "cell_type": "code",
      "execution_count": null,
      "metadata": {
        "id": "jEqttM9--_Er"
      },
      "outputs": [],
      "source": [
        "def read_table_bq(path,archivo_sql):\n",
        "  ruta_sql = os.path.join(path, archivo_sql)\n",
        "  with open(ruta_sql, 'r') as file:\n",
        "      sql = file.read()\n",
        "  try:\n",
        "    df_temp = pd.read_gbq(sql, project_id=project_id, dialect='standard')\n",
        "    df = df_temp.melt(value_vars=[col for col in df_temp.columns if 'DIFF' in col],var_name='CAMPO_VALIDACION', value_name='RESULTADO')\n",
        "    df['NOMBRE_TABLA']=archivo_sql\n",
        "  except Exception as e:\n",
        "    print(f'Error al ejecutar {archivo_sql} en BigQuery: {e}')\n",
        "    with open('errores.log', 'a') as log_file:\n",
        "      log_file.write(f'Error en {archivo_sql}: {e}\\n')\n",
        "      return None  # Devolver None para indicar que ocurrió un error\n",
        "  return df"
      ]
    },
    {
      "cell_type": "code",
      "execution_count": null,
      "metadata": {
        "id": "DaIarjLF_wgj"
      },
      "outputs": [],
      "source": [
        "df_concatenado = pd.DataFrame()\n",
        "for archivo_sql in os.listdir(path):\n",
        "  dk = read_table_bq(path,archivo_sql)\n",
        "  df_concatenado = pd.concat([df_concatenado, dk], ignore_index=True)"
      ]
    },
    {
      "cell_type": "code",
      "execution_count": null,
      "metadata": {
        "id": "Ud52zRQzM3S9"
      },
      "outputs": [],
      "source": [
        "df_concatenado.to_excel('VALIDACION_TABLAS_BQ_NULL.xlsx')"
      ]
    }
  ],
  "metadata": {
    "colab": {
      "provenance": []
    },
    "kernelspec": {
      "display_name": "Python 3",
      "name": "python3"
    },
    "language_info": {
      "codemirror_mode": {
        "name": "ipython",
        "version": 3
      },
      "file_extension": ".py",
      "mimetype": "text/x-python",
      "name": "python",
      "nbconvert_exporter": "python",
      "pygments_lexer": "ipython3",
      "version": "3.10.9"
    }
  },
  "nbformat": 4,
  "nbformat_minor": 0
}
