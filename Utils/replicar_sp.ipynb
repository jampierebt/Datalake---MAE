{
 "cells": [
  {
   "cell_type": "code",
   "execution_count": 2,
   "metadata": {},
   "outputs": [],
   "source": [
    "from google.cloud import bigquery\n",
    "import re\n",
    "import os\n",
    "import pandas as pd\n",
    "#from google.colab import drive\n",
    "#from google.colab import auth\n",
    "#drive.mount('/content/drive')\n",
    "#auth.authenticate_user()\n",
    "project_id = 'iter-data-storage-pv-uat'\n",
    "client = bigquery.Client(project_id)"
   ]
  },
  {
   "cell_type": "code",
   "execution_count": 3,
   "metadata": {},
   "outputs": [],
   "source": [
    "path='Desarrollo/Replicacion UAT/replicacion_prod/sql_input/'"
   ]
  },
  {
   "cell_type": "code",
   "execution_count": 12,
   "metadata": {},
   "outputs": [],
   "source": [
    "def sqlbigquery():\n",
    "    with open(\"replicacion.sql\",\"r\") as file:\n",
    "        statement = file.readlines()\n",
    "        statement = \" \".join(statement)\n",
    "    return statement"
   ]
  },
  {
   "cell_type": "code",
   "execution_count": 15,
   "metadata": {},
   "outputs": [],
   "source": [
    "def read_table_bq(query):\n",
    "  df = pd.read_gbq(query, project_id=project_id, dialect='standard')\n",
    "  return df"
   ]
  },
  {
   "cell_type": "code",
   "execution_count": 7,
   "metadata": {},
   "outputs": [],
   "source": [
    "def store_base(df):\n",
    "  for index, row in df.iterrows():\n",
    "    nombre_archivo = row['NOMBRE_STORE_PROCEDURE']\n",
    "    contenido_archivo = row['DDL']\n",
    "    with open(path + nombre_archivo+'.sql', 'w', newline='') as archivo:\n",
    "      archivo.write(contenido_archivo)\n",
    "  return 'Se exporto correctamente los DDL'"
   ]
  },
  {
   "cell_type": "markdown",
   "metadata": {},
   "source": [
    "# Generar los archivos .sql"
   ]
  },
  {
   "cell_type": "code",
   "execution_count": 20,
   "metadata": {},
   "outputs": [
    {
     "name": "stderr",
     "output_type": "stream",
     "text": [
      "C:\\Users\\jberriot\\AppData\\Local\\Temp\\ipykernel_21660\\2986615697.py:2: FutureWarning: read_gbq is deprecated and will be removed in a future version. Please use pandas_gbq.read_gbq instead: https://pandas-gbq.readthedocs.io/en/latest/api.html#pandas_gbq.read_gbq\n",
      "  df = pd.read_gbq(query, project_id=project_id, dialect='standard')\n"
     ]
    },
    {
     "data": {
      "text/plain": [
       "'Se exporto correctamente los DDL'"
      ]
     },
     "execution_count": 20,
     "metadata": {},
     "output_type": "execute_result"
    }
   ],
   "source": [
    "store_base(read_table_bq(sqlbigquery()))"
   ]
  },
  {
   "cell_type": "markdown",
   "metadata": {},
   "source": [
    "# Ejecutar Jobs por partes"
   ]
  },
  {
   "cell_type": "code",
   "execution_count": 21,
   "metadata": {},
   "outputs": [],
   "source": [
    "def execute_job(query):\n",
    "    query_job = client.query(query)\n",
    "    results = query_job.result()\n",
    "    for row in results:\n",
    "        ddl_statement = row['DDL']\n",
    "        client.query(ddl_statement).result()\n",
    "    return f'Ejectuado Correctamente'"
   ]
  },
  {
   "cell_type": "code",
   "execution_count": 22,
   "metadata": {},
   "outputs": [
    {
     "data": {
      "text/plain": [
       "'Ejectuado Correctamente'"
      ]
     },
     "execution_count": 22,
     "metadata": {},
     "output_type": "execute_result"
    }
   ],
   "source": [
    "execute_job(sqlbigquery())"
   ]
  }
 ],
 "metadata": {
  "kernelspec": {
   "display_name": "base",
   "language": "python",
   "name": "python3"
  },
  "language_info": {
   "codemirror_mode": {
    "name": "ipython",
    "version": 3
   },
   "file_extension": ".py",
   "mimetype": "text/x-python",
   "name": "python",
   "nbconvert_exporter": "python",
   "pygments_lexer": "ipython3",
   "version": "3.10.9"
  }
 },
 "nbformat": 4,
 "nbformat_minor": 2
}
