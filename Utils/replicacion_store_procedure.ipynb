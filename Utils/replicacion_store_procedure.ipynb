{
  "cells": [
    {
      "cell_type": "markdown",
      "metadata": {
        "id": "fm6mTI_CWO6e"
      },
      "source": [
        "#Librerias"
      ]
    },
    {
      "cell_type": "code",
      "execution_count": 3,
      "metadata": {
        "colab": {
          "background_save": true,
          "base_uri": "https://localhost:8080/"
        },
        "id": "Q6PykGEVWN9Z",
        "outputId": "71145360-3273-4638-fb9d-c9c8816973f7"
      },
      "outputs": [],
      "source": [
        "from google.cloud import bigquery\n",
        "#from google.colab import drive\n",
        "#from google.colab import auth\n",
        "import re\n",
        "import os\n",
        "import pandas as pd\n",
        "#drive.mount('/content/drive')\n",
        "#auth.authenticate_user()\n",
        "\n",
        "project_id = 'iter-data-storage-pv-uat'\n",
        "client = bigquery.Client(project_id)"
      ]
    },
    {
      "cell_type": "code",
      "execution_count": 4,
      "metadata": {
        "id": "11qgmrChYw-A"
      },
      "outputs": [],
      "source": [
        "path='Desarrollo/Replicacion UAT/replicacion_prod/sql_input/'\n",
        "#path='/content/drive/MyDrive/Proyectos - IS/PROY - MAE/Desarrollo/Replicacion UAT/replicacion_prod/sql_input/'"
      ]
    },
    {
      "cell_type": "markdown",
      "metadata": {
        "id": "IdXe6zKWWSqv"
      },
      "source": [
        "#Codigos"
      ]
    },
    {
      "cell_type": "code",
      "execution_count": 15,
      "metadata": {
        "id": "peH9KlzD4fJe"
      },
      "outputs": [],
      "source": [
        "def read_table_bq():\n",
        "  sql = \"\"\"\n",
        "SELECT * FROM `iter-data-storage-pv.temp.MIGRACION_STORE_PROCEDURE`\n",
        "WHERE nombre_store_procedure in (\n",
        "'sp_inputfiles_producto_unidad_cuenta'\n",
        ",'sp_inputfiles_ceco_unidad_cuenta'\n",
        ",'sp_inputfiles_reaseguro_desgravamen'\n",
        ",'sp_inputfiles_reaseguro_vida'\n",
        ",'sp_inputfiles_tipo_cambio_ifrs17'\n",
        ",'sp_inputfiles_siniestro_beneficiario'\n",
        ",'sp_inputfiles_siniestro_desgravamen'\n",
        ",'sp_inputfiles_siniestro_optativo'\n",
        ",'sp_inputfiles_siniestro_proveedor'\n",
        ",'sp_inputfiles_siniestro_vida'\n",
        ",'sp_inputfiles_distribucion_costos_gastos'\n",
        ",'sp_inputfiles_gastos_reales'\n",
        ",'sp_bi_sbs_plnt_movimiento_contable_hist'\n",
        ",'sp_bi_sbs_poliza_comprobante_hist'\n",
        ",'sp_bi_sbs_plnt_pagos_compania_hist'\n",
        ",'sp_bi_sbs_plnt_ifrs17_042'\n",
        ",'sp_bi_sbs_normativo_ifrs17'\n",
        ")\"\"\"\n",
        "  df = pd.read_gbq(sql, project_id=project_id, dialect='standard')\n",
        "  return df"
      ]
    },
    {
      "cell_type": "code",
      "execution_count": 18,
      "metadata": {
        "id": "KUXBnTjsJQ1L"
      },
      "outputs": [],
      "source": [
        "def store_base(df):\n",
        "  for index, row in df.iterrows():\n",
        "    nombre_archivo = row['NOMBRE_STORE_PROCEDURE']\n",
        "    contenido_archivo = row['DDL']\n",
        "    with open(path + nombre_archivo+'.sql', 'w', newline='') as archivo:\n",
        "      archivo.write(contenido_archivo)\n",
        "  return 'Se exporto correctamente los DDL'"
      ]
    },
    {
      "cell_type": "markdown",
      "metadata": {
        "id": "WNa-qtJ6eNYc"
      },
      "source": [
        "#Exporta un .sql por cada store procedure en la ruta"
      ]
    },
    {
      "cell_type": "code",
      "execution_count": 19,
      "metadata": {
        "colab": {
          "base_uri": "https://localhost:8080/",
          "height": 36
        },
        "id": "Q-2trI9DK0k2",
        "outputId": "7f5094bf-1e2a-402f-f4a9-3e12247680af"
      },
      "outputs": [
        {
          "name": "stderr",
          "output_type": "stream",
          "text": [
            "C:\\Users\\jberriot\\AppData\\Local\\Temp\\ipykernel_21988\\3405439727.py:23: FutureWarning: read_gbq is deprecated and will be removed in a future version. Please use pandas_gbq.read_gbq instead: https://pandas-gbq.readthedocs.io/en/latest/api.html#pandas_gbq.read_gbq\n",
            "  df = pd.read_gbq(sql, project_id=project_id, dialect='standard')\n"
          ]
        },
        {
          "data": {
            "text/plain": [
              "'Se exporto correctamente los DDL'"
            ]
          },
          "execution_count": 19,
          "metadata": {},
          "output_type": "execute_result"
        }
      ],
      "source": [
        "store_base(read_table_bq())"
      ]
    },
    {
      "cell_type": "code",
      "execution_count": 14,
      "metadata": {
        "id": "USomJ8h39_Yd"
      },
      "outputs": [],
      "source": [
        "def buscar_tablas(sql_code):\n",
        "    #table_pattern  = r'FROM\\s+([^\\s;]+)'\n",
        "    pattern = r'(?<!PROCEDURE)\\s+(?:FROM|JOIN|INTO|UPDATE|DELETE)\\s+([^\\s,;]+)'\n",
        "    #pattern = r'(?:FROM|JOIN)\\s+([A-Za-z0-9_]+)'\n",
        "    matches = re.findall(pattern, sql_code, re.IGNORECASE)\n",
        "    return matches"
      ]
    },
    {
      "cell_type": "code",
      "execution_count": null,
      "metadata": {
        "id": "Zn_dSujVNTNT"
      },
      "outputs": [],
      "source": [
        "archivos = os.listdir(path)\n",
        "i=0\n",
        "for archivo in archivos:\n",
        "  print(archivo)\n",
        "  with open(path + archivo,'r') as file:\n",
        "    sql_code = file.read()\n",
        "  data = buscar_tablas(sql_code)\n",
        "  df = pd.DataFrame(data, columns=['NOMBRE_TABLA'])\n",
        "  df['NOMBRE_STORE_PROCEDURE']=archivo\n",
        "  if i==0:\n",
        "    df_final = pd.DataFrame(df)\n",
        "  else:\n",
        "    df_final = pd.concat([df_final, df], ignore_index=True)\n",
        "  df_final.head(3)\n",
        "  i=i+1"
      ]
    },
    {
      "cell_type": "code",
      "execution_count": null,
      "metadata": {
        "id": "kQfraWxqkpMf"
      },
      "outputs": [],
      "source": [
        "df_final.to_excel('resultado.xlsx')"
      ]
    },
    {
      "cell_type": "code",
      "execution_count": null,
      "metadata": {
        "id": "6HPQLqhYKNeg"
      },
      "outputs": [],
      "source": [
        "from google.cloud import bigquery\n",
        "client = bigquery.Client()"
      ]
    },
    {
      "cell_type": "markdown",
      "metadata": {
        "id": "lpsUMz7PRXTF"
      },
      "source": [
        "#Procesa los DDL para replicar tablas con 0 registros"
      ]
    },
    {
      "cell_type": "code",
      "execution_count": null,
      "metadata": {
        "id": "P2WXZ0n14e7f"
      },
      "outputs": [],
      "source": [
        "query = \"\"\"\n",
        "SELECT DDL\n",
        "FROM interseguro-data.temp.MIGRACION_TABLES\n",
        "WHERE NOMBRE_TABLA NOT LIKE '%_landing'\n",
        "AND NOMBRE_DATASET='goldenrecord_data'\n",
        "AND TIPO='BASE TABLE'\n",
        "\"\"\"\n",
        "query_job = client.query(query)\n",
        "results = query_job.result()\n",
        "\n",
        "for row in results:\n",
        "    ddl_statement = row['DDL']\n",
        "    client.query(ddl_statement).result()"
      ]
    },
    {
      "cell_type": "code",
      "execution_count": 20,
      "metadata": {
        "id": "zkL3-rWwlwWM"
      },
      "outputs": [],
      "source": [
        "query = \"\"\"\n",
        "SELECT * FROM `iter-data-storage-pv.temp.MIGRACION_STORE_PROCEDURE`\n",
        "WHERE nombre_store_procedure in (\n",
        "'sp_inputfiles_producto_unidad_cuenta'\n",
        ",'sp_inputfiles_ceco_unidad_cuenta'\n",
        ",'sp_inputfiles_reaseguro_desgravamen'\n",
        ",'sp_inputfiles_reaseguro_vida'\n",
        ",'sp_inputfiles_tipo_cambio_ifrs17'\n",
        ",'sp_inputfiles_siniestro_beneficiario'\n",
        ",'sp_inputfiles_siniestro_desgravamen'\n",
        ",'sp_inputfiles_siniestro_optativo'\n",
        ",'sp_inputfiles_siniestro_proveedor'\n",
        ",'sp_inputfiles_siniestro_vida'\n",
        ",'sp_inputfiles_distribucion_costos_gastos'\n",
        ",'sp_inputfiles_gastos_reales'\n",
        ",'sp_bi_sbs_plnt_movimiento_contable_hist'\n",
        ",'sp_bi_sbs_poliza_comprobante_hist'\n",
        ",'sp_bi_sbs_plnt_pagos_compania_hist'\n",
        ",'sp_bi_sbs_plnt_ifrs17_042'\n",
        ",'sp_bi_sbs_normativo_ifrs17'\n",
        ")\n",
        "\"\"\"\n",
        "query_job = client.query(query)\n",
        "results = query_job.result()\n",
        "\n",
        "for row in results:\n",
        "    ddl_statement = row['DDL']\n",
        "    client.query(ddl_statement).result()"
      ]
    }
  ],
  "metadata": {
    "colab": {
      "provenance": []
    },
    "kernelspec": {
      "display_name": "Python 3",
      "name": "python3"
    },
    "language_info": {
      "codemirror_mode": {
        "name": "ipython",
        "version": 3
      },
      "file_extension": ".py",
      "mimetype": "text/x-python",
      "name": "python",
      "nbconvert_exporter": "python",
      "pygments_lexer": "ipython3",
      "version": "3.10.9"
    }
  },
  "nbformat": 4,
  "nbformat_minor": 0
}
