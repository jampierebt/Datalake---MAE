{
  "cells": [
    {
      "cell_type": "markdown",
      "metadata": {
        "id": "fm6mTI_CWO6e"
      },
      "source": [
        "#Librerias"
      ]
    },
    {
      "cell_type": "code",
      "execution_count": null,
      "metadata": {
        "colab": {
          "background_save": true,
          "base_uri": "https://localhost:8080/"
        },
        "id": "Q6PykGEVWN9Z",
        "outputId": "71145360-3273-4638-fb9d-c9c8816973f7"
      },
      "outputs": [
        {
          "name": "stdout",
          "output_type": "stream",
          "text": [
            "Drive already mounted at /content/drive; to attempt to forcibly remount, call drive.mount(\"/content/drive\", force_remount=True).\n"
          ]
        }
      ],
      "source": [
        "from google.cloud import bigquery\n",
        "from google.colab import drive\n",
        "from google.colab import auth\n",
        "import re\n",
        "import os\n",
        "import pandas as pd\n",
        "drive.mount('/content/drive')\n",
        "auth.authenticate_user()\n",
        "\n",
        "project_id = 'iter-data-storage-pv-uat'\n",
        "client = bigquery.Client(project_id)"
      ]
    },
    {
      "cell_type": "code",
      "execution_count": null,
      "metadata": {
        "id": "11qgmrChYw-A"
      },
      "outputs": [],
      "source": [
        "path='/content/drive/MyDrive/Proyectos - IS/PROY - MAE/Desarrollo/Replicacion UAT/replicacion_prod/sql_input/'"
      ]
    },
    {
      "cell_type": "markdown",
      "metadata": {
        "id": "IdXe6zKWWSqv"
      },
      "source": [
        "#Codigos"
      ]
    },
    {
      "cell_type": "code",
      "execution_count": null,
      "metadata": {
        "id": "peH9KlzD4fJe"
      },
      "outputs": [],
      "source": [
        "def read_table_bq():\n",
        "  sql = \"\"\"SELECT * FROM `iter-data-storage-pv.temp.MIGRACION_STORE_PROCEDURE`\"\"\"\n",
        "  df = pd.read_gbq(sql, project_id=project_id, dialect='standard')\n",
        "  return df"
      ]
    },
    {
      "cell_type": "code",
      "execution_count": null,
      "metadata": {
        "id": "KUXBnTjsJQ1L"
      },
      "outputs": [],
      "source": [
        "def store_base(df):\n",
        "  for index, row in df.iterrows():\n",
        "    nombre_archivo = row['NOMBRE_STORE_PROCEDURE']\n",
        "    contenido_archivo = row['DDL']\n",
        "    with open(path + nombre_archivo+'.sql', 'w') as archivo:\n",
        "      archivo.write(contenido_archivo)\n",
        "  return 'Se exporto correctamente los DDL'"
      ]
    },
    {
      "cell_type": "markdown",
      "metadata": {
        "id": "WNa-qtJ6eNYc"
      },
      "source": [
        "#Exporta un .sql por cada store procedure en la ruta"
      ]
    },
    {
      "cell_type": "code",
      "execution_count": null,
      "metadata": {
        "colab": {
          "base_uri": "https://localhost:8080/",
          "height": 36
        },
        "id": "Q-2trI9DK0k2",
        "outputId": "7f5094bf-1e2a-402f-f4a9-3e12247680af"
      },
      "outputs": [
        {
          "data": {
            "application/vnd.google.colaboratory.intrinsic+json": {
              "type": "string"
            },
            "text/plain": [
              "'Se exporto correctamente los DDL'"
            ]
          },
          "execution_count": 9,
          "metadata": {},
          "output_type": "execute_result"
        }
      ],
      "source": [
        "store_base(read_table_bq())"
      ]
    },
    {
      "cell_type": "code",
      "execution_count": null,
      "metadata": {
        "id": "USomJ8h39_Yd"
      },
      "outputs": [],
      "source": [
        "def buscar_tablas(sql_code):\n",
        "    #table_pattern  = r'FROM\\s+([^\\s;]+)'\n",
        "    pattern = r'(?<!PROCEDURE)\\s+(?:FROM|JOIN|INTO|UPDATE|DELETE)\\s+([^\\s,;]+)'\n",
        "    #pattern = r'(?:FROM|JOIN)\\s+([A-Za-z0-9_]+)'\n",
        "    matches = re.findall(pattern, sql_code, re.IGNORECASE)\n",
        "    return matches"
      ]
    },
    {
      "cell_type": "code",
      "execution_count": null,
      "metadata": {
        "id": "Zn_dSujVNTNT"
      },
      "outputs": [],
      "source": [
        "archivos = os.listdir(path)\n",
        "i=0\n",
        "for archivo in archivos:\n",
        "  print(archivo)\n",
        "  with open(path + archivo,'r') as file:\n",
        "    sql_code = file.read()\n",
        "  data = buscar_tablas(sql_code)\n",
        "  df = pd.DataFrame(data, columns=['NOMBRE_TABLA'])\n",
        "  df['NOMBRE_STORE_PROCEDURE']=archivo\n",
        "  if i==0:\n",
        "    df_final = pd.DataFrame(df)\n",
        "  else:\n",
        "    df_final = pd.concat([df_final, df], ignore_index=True)\n",
        "  df_final.head(3)\n",
        "  i=i+1"
      ]
    },
    {
      "cell_type": "code",
      "execution_count": null,
      "metadata": {
        "id": "kQfraWxqkpMf"
      },
      "outputs": [],
      "source": [
        "df_final.to_excel('resultado.xlsx')"
      ]
    },
    {
      "cell_type": "code",
      "execution_count": null,
      "metadata": {
        "id": "6HPQLqhYKNeg"
      },
      "outputs": [],
      "source": [
        "from google.cloud import bigquery\n",
        "client = bigquery.Client()"
      ]
    },
    {
      "cell_type": "markdown",
      "metadata": {
        "id": "lpsUMz7PRXTF"
      },
      "source": [
        "#Procesa los DDL para replicar tablas con 0 registros"
      ]
    },
    {
      "cell_type": "code",
      "execution_count": null,
      "metadata": {
        "id": "P2WXZ0n14e7f"
      },
      "outputs": [],
      "source": [
        "query = \"\"\"\n",
        "SELECT DDL\n",
        "FROM interseguro-data.temp.MIGRACION_TABLES\n",
        "WHERE NOMBRE_TABLA NOT LIKE '%_landing'\n",
        "AND NOMBRE_DATASET='goldenrecord_data'\n",
        "AND TIPO='BASE TABLE'\n",
        "\"\"\"\n",
        "query_job = client.query(query)\n",
        "results = query_job.result()\n",
        "\n",
        "for row in results:\n",
        "    ddl_statement = row['DDL']\n",
        "    client.query(ddl_statement).result()"
      ]
    },
    {
      "cell_type": "code",
      "execution_count": null,
      "metadata": {
        "id": "zkL3-rWwlwWM"
      },
      "outputs": [],
      "source": [
        "query = \"\"\"\n",
        "SELECT DDL\n",
        "FROM `iter-data-storage-pv.temp.MIGRACION_STORE_PROCEDURE`\n",
        "WHERE NOMBRE_STORE_PROCEDURE IN(\n",
        "'sp_carga_golden_poliza_operacion')\n",
        "\"\"\"\n",
        "query_job = client.query(query)\n",
        "results = query_job.result()\n",
        "\n",
        "for row in results:\n",
        "    ddl_statement = row['DDL']\n",
        "    client.query(ddl_statement).result()"
      ]
    }
  ],
  "metadata": {
    "colab": {
      "provenance": []
    },
    "kernelspec": {
      "display_name": "Python 3",
      "name": "python3"
    },
    "language_info": {
      "name": "python"
    }
  },
  "nbformat": 4,
  "nbformat_minor": 0
}